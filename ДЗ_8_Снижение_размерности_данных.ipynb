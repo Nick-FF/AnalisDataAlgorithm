{
  "nbformat": 4,
  "nbformat_minor": 0,
  "metadata": {
    "kernelspec": {
      "display_name": "Python 3",
      "language": "python",
      "name": "python3"
    },
    "language_info": {
      "codemirror_mode": {
        "name": "ipython",
        "version": 3
      },
      "file_extension": ".py",
      "mimetype": "text/x-python",
      "name": "python",
      "nbconvert_exporter": "python",
      "pygments_lexer": "ipython3",
      "version": "3.6.8"
    },
    "colab": {
      "name": "ДЗ 8. Снижение размерности данных.ipynb",
      "provenance": [],
      "include_colab_link": true
    }
  },
  "cells": [
    {
      "cell_type": "markdown",
      "metadata": {
        "id": "view-in-github",
        "colab_type": "text"
      },
      "source": [
        "<a href=\"https://colab.research.google.com/github/Nick-FF/AnalisDataAlgorithm/blob/Less8/%D0%94%D0%97_8_%D0%A1%D0%BD%D0%B8%D0%B6%D0%B5%D0%BD%D0%B8%D0%B5_%D1%80%D0%B0%D0%B7%D0%BC%D0%B5%D1%80%D0%BD%D0%BE%D1%81%D1%82%D0%B8_%D0%B4%D0%B0%D0%BD%D0%BD%D1%8B%D1%85.ipynb\" target=\"_parent\"><img src=\"https://colab.research.google.com/assets/colab-badge.svg\" alt=\"Open In Colab\"/></a>"
      ]
    },
    {
      "cell_type": "markdown",
      "metadata": {
        "id": "xA7Z41F8fjZx"
      },
      "source": [
        "### Домашнее задание <a class=\"anchor\" id=\"hw\"></a><center>"
      ]
    },
    {
      "cell_type": "code",
      "metadata": {
        "id": "buOJeXB_fjZ5"
      },
      "source": [
        "import numpy as np\n",
        "from sklearn import datasets\n",
        "import matplotlib.pyplot as plt"
      ],
      "execution_count": 1,
      "outputs": []
    },
    {
      "cell_type": "markdown",
      "metadata": {
        "id": "BM9gQ4iMfjZ8"
      },
      "source": [
        "**1. Обучить любую модель классификации на датасете IRIS до применения PCA и после него. Сравнить качество классификации по отложенной выборке.**"
      ]
    },
    {
      "cell_type": "code",
      "metadata": {
        "colab": {
          "base_uri": "https://localhost:8080/"
        },
        "id": "ZAA_KfN4fjZ9",
        "outputId": "ad61cced-db97-4ee5-9674-39e193f2c73a"
      },
      "source": [
        "# Загрузим игрушечный датасет из sklearn\n",
        "iris = datasets.load_iris()\n",
        "X = iris.data\n",
        "X.shape"
      ],
      "execution_count": 2,
      "outputs": [
        {
          "output_type": "execute_result",
          "data": {
            "text/plain": [
              "(150, 4)"
            ]
          },
          "metadata": {},
          "execution_count": 2
        }
      ]
    },
    {
      "cell_type": "code",
      "metadata": {
        "id": "YvXJSYUhfjZ_"
      },
      "source": [
        "def standard_scale(x):\n",
        "    res = (x - x.mean(axis=0)) / x.std(axis=0)\n",
        "    return res\n",
        "\n",
        "\n",
        "X = standard_scale(X)"
      ],
      "execution_count": 3,
      "outputs": []
    },
    {
      "cell_type": "markdown",
      "metadata": {
        "id": "sbPclORVfjaA"
      },
      "source": [
        "**2. *Написать свою реализацию метода главных компонент с помощью сингулярного разложения с использованием функции [numpy.linalg.svd()](https://docs.scipy.org/doc/numpy/reference/generated/numpy.linalg.svd.html)**"
      ]
    },
    {
      "cell_type": "markdown",
      "metadata": {
        "id": "Thkg-tSXdfJ0"
      },
      "source": [
        "Сформулировав принцип реализации метода главных компонент, нельзя не заметить его родство с сингулярным разложением матриц (SVD). Вспомним, что сингулярное разложение матрицы - это разложение вида\n",
        "\n",
        "$$X=UDV^{T},$$\n",
        "\n",
        "- столбцы ортогональной матрицы $U$ - это собственные векторы матрицы $XX^{T}$\n",
        "- столбцы ортогональной матрицы $V$ - собственные векторы матрицы $X^{T}X$\n",
        "- на главной диагонали диагональной матрицы $D$ расположены собственные значения матриц $XX^{T}$ и $X^{T}X$ (они равны и также называются сингулярными числами матрицы $X$).\n",
        "\n",
        "Если число новых признаков $d$ равно старому числу признаков $n$, то можно приравнять разложения\n",
        "\n",
        "$$X=ZW=UDV^{T}.$$\n",
        "\n",
        "При этом матрицы $W$ и $V^{T}$ состоят из собственных векторов матрицы $X^{T}X$, то есть они равны при $Z=UD$."
      ]
    },
    {
      "cell_type": "code",
      "metadata": {
        "id": "mP4BbE4PfjaD",
        "outputId": "382dba1b-3932-4e19-9820-69755971afc9"
      },
      "source": [
        "U, D, V = np.linalg.svd(X.T @ X)\n",
        "U.shape, D.shape, V.shape"
      ],
      "execution_count": null,
      "outputs": [
        {
          "data": {
            "text/plain": [
              "((4, 4), (4,), (4, 4))"
            ]
          },
          "execution_count": 115,
          "metadata": {},
          "output_type": "execute_result"
        }
      ]
    },
    {
      "cell_type": "code",
      "metadata": {
        "id": "ZCMhTkIIfjaE",
        "outputId": "7baea662-ca34-40d3-edb5-6ff589d8db4f"
      },
      "source": [
        "D"
      ],
      "execution_count": null,
      "outputs": [
        {
          "data": {
            "text/plain": [
              "array([437.77467248, 137.10457072,  22.01353134,   3.10722546])"
            ]
          },
          "execution_count": 116,
          "metadata": {},
          "output_type": "execute_result"
        }
      ]
    },
    {
      "cell_type": "code",
      "metadata": {
        "id": "xGHplOu8fjaG",
        "outputId": "2ad5c904-d53a-4533-85b7-18814ce264a9"
      },
      "source": [
        "# сформируем список кортежей (собственное значение, собственный вектор)\n",
        "eig_pairs = [(D[i], V[i]) for i in range(len(D))]\n",
        "\n",
        "# и отсортируем список по убыванию собственных значений\n",
        "eig_pairs.sort(key=lambda x: x[0], reverse=True)\n",
        "\n",
        "print('Собственные значения и собственные векторы в порядке убывания:')\n",
        "for i in eig_pairs:\n",
        "    print(i)"
      ],
      "execution_count": null,
      "outputs": [
        {
          "name": "stdout",
          "output_type": "stream",
          "text": [
            "Собственные значения и собственные векторы в порядке убывания:\n",
            "(437.77467247979934, array([-0.52106591,  0.26934744, -0.5804131 , -0.56485654]))\n",
            "(137.10457072021035, array([-0.37741762, -0.92329566, -0.02449161, -0.06694199]))\n",
            "(22.01353133569723, array([ 0.71956635, -0.24438178, -0.14212637, -0.63427274]))\n",
            "(3.1072254642928483, array([ 0.26128628, -0.12350962, -0.80144925,  0.52359713]))\n"
          ]
        }
      ]
    },
    {
      "cell_type": "code",
      "metadata": {
        "id": "cdneAAQ8fjaH",
        "outputId": "cbad5b00-c07c-4db1-9691-69b54c34cad2"
      },
      "source": [
        "eig_sum = sum(D)\n",
        "var_exp = [(i / eig_sum) * 100 for i in sorted(D, reverse=True)]\n",
        "cum_var_exp = np.cumsum(var_exp)\n",
        "print(f'Доля дисперсии, описвыаемая каждой из компонент \\n{var_exp}')\n",
        "\n",
        "# а теперь оценим кумулятивную (то есть накапливаемую) дисперсию при учитывании каждой из компонент\n",
        "print(f'Кумулятивная доля дисперсии по компонентам \\n{cum_var_exp}')"
      ],
      "execution_count": null,
      "outputs": [
        {
          "name": "stdout",
          "output_type": "stream",
          "text": [
            "Доля дисперсии, описвыаемая каждой из компонент \n",
            "[72.96244541329992, 22.850761786701735, 3.668921889282873, 0.5178709107154749]\n",
            "Кумулятивная доля дисперсии по компонентам \n",
            "[ 72.96244541  95.8132072   99.48212909 100.        ]\n"
          ]
        }
      ]
    },
    {
      "cell_type": "code",
      "metadata": {
        "id": "pvguRIfffjaI",
        "outputId": "c1b5c6e3-b182-42ac-bd14-29c9a7c5edb2"
      },
      "source": [
        "# Сформируем вектор весов из собственных векторов, соответствующих первым двум главным компонентам\n",
        "W = np.hstack((eig_pairs[0][1].reshape(4,1), eig_pairs[1][1].reshape(4,1)))\n",
        "\n",
        "print(f'Матрица весов W:\\n', W)"
      ],
      "execution_count": null,
      "outputs": [
        {
          "name": "stdout",
          "output_type": "stream",
          "text": [
            "Матрица весов W:\n",
            " [[-0.52106591 -0.37741762]\n",
            " [ 0.26934744 -0.92329566]\n",
            " [-0.5804131  -0.02449161]\n",
            " [-0.56485654 -0.06694199]]\n"
          ]
        }
      ]
    },
    {
      "cell_type": "code",
      "metadata": {
        "id": "0PyzA0MLfjaJ",
        "outputId": "b90b8cc3-67a1-44ca-88f0-bc35993a66ad"
      },
      "source": [
        "# Сформируем новую матрицу \"объекты-признаки\"\n",
        "Z = X.dot(W)\n",
        "Z[:10]"
      ],
      "execution_count": null,
      "outputs": [
        {
          "data": {
            "text/plain": [
              "array([[ 2.26470281, -0.4800266 ],\n",
              "       [ 2.08096115,  0.67413356],\n",
              "       [ 2.36422905,  0.34190802],\n",
              "       [ 2.29938422,  0.59739451],\n",
              "       [ 2.38984217, -0.64683538],\n",
              "       [ 2.07563095, -1.48917752],\n",
              "       [ 2.44402884, -0.0476442 ],\n",
              "       [ 2.23284716, -0.22314807],\n",
              "       [ 2.33464048,  1.11532768],\n",
              "       [ 2.18432817,  0.46901356]])"
            ]
          },
          "execution_count": 120,
          "metadata": {},
          "output_type": "execute_result"
        }
      ]
    },
    {
      "cell_type": "code",
      "metadata": {
        "id": "RDb7PAo6fjaK",
        "outputId": "87cc3487-476b-457a-ecc0-5c1d3f6afc9c"
      },
      "source": [
        "from sklearn.decomposition import PCA\n",
        "pca = PCA(n_components=2)\n",
        "pca.fit_transform(X)[:10]"
      ],
      "execution_count": null,
      "outputs": [
        {
          "data": {
            "text/plain": [
              "array([[-2.26470281,  0.4800266 ],\n",
              "       [-2.08096115, -0.67413356],\n",
              "       [-2.36422905, -0.34190802],\n",
              "       [-2.29938422, -0.59739451],\n",
              "       [-2.38984217,  0.64683538],\n",
              "       [-2.07563095,  1.48917752],\n",
              "       [-2.44402884,  0.0476442 ],\n",
              "       [-2.23284716,  0.22314807],\n",
              "       [-2.33464048, -1.11532768],\n",
              "       [-2.18432817, -0.46901356]])"
            ]
          },
          "execution_count": 121,
          "metadata": {},
          "output_type": "execute_result"
        }
      ]
    },
    {
      "cell_type": "code",
      "metadata": {
        "id": "4Wb8g634fjaL",
        "outputId": "fc6faa51-b672-419f-870c-dbcb638bf94a"
      },
      "source": [
        "plt.figure()\n",
        "y = iris.target\n",
        "for c, i in zip(\"rgb\", [0, 1, 2]):\n",
        "    plt.scatter(Z[y==i, 0], Z[y==i, 1], c=c)\n",
        "plt.xlabel('Главная компонента 1')\n",
        "plt.ylabel('Главная компонента 2')\n",
        "plt.title('PCA датасета IRIS')\n",
        "plt.show()"
      ],
      "execution_count": null,
      "outputs": [
        {
          "data": {
            "image/png": "[encoded data removed]",
            "text/plain": [
              "<Figure size 432x288 with 1 Axes>"
            ]
          },
          "metadata": {
            "needs_background": "light"
          },
          "output_type": "display_data"
        }
      ]
    },
    {
      "cell_type": "code",
      "metadata": {
        "id": "xS6mpbDnfjaL"
      },
      "source": [
        ""
      ],
      "execution_count": null,
      "outputs": []
    },
    {
      "cell_type": "code",
      "metadata": {
        "id": "XZjaMD_HfjaM"
      },
      "source": [
        ""
      ],
      "execution_count": null,
      "outputs": []
    }
  ]
}