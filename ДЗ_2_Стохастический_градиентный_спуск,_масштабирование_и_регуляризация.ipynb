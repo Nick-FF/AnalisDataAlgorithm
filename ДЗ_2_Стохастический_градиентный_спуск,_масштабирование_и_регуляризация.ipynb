{
  "nbformat": 4,
  "nbformat_minor": 0,
  "metadata": {
    "kernelspec": {
      "display_name": "Python 3",
      "language": "python",
      "name": "python3"
    },
    "language_info": {
      "codemirror_mode": {
        "name": "ipython",
        "version": 3
      },
      "file_extension": ".py",
      "mimetype": "text/x-python",
      "name": "python",
      "nbconvert_exporter": "python",
      "pygments_lexer": "ipython3",
      "version": "3.8.10"
    },
    "colab": {
      "name": "ДЗ 2. Стохастический градиентный спуск, масштабирование и регуляризация.ipynb",
      "provenance": [],
      "collapsed_sections": [],
      "include_colab_link": true
    }
  },
  "cells": [
    {
      "cell_type": "markdown",
      "metadata": {
        "id": "view-in-github",
        "colab_type": "text"
      },
      "source": [
        "<a href=\"https://colab.research.google.com/github/Nick-FF/AnalisDataAlgorithm/blob/Less2/%D0%94%D0%97_2_%D0%A1%D1%82%D0%BE%D1%85%D0%B0%D1%81%D1%82%D0%B8%D1%87%D0%B5%D1%81%D0%BA%D0%B8%D0%B9_%D0%B3%D1%80%D0%B0%D0%B4%D0%B8%D0%B5%D0%BD%D1%82%D0%BD%D1%8B%D0%B9_%D1%81%D0%BF%D1%83%D1%81%D0%BA%2C_%D0%BC%D0%B0%D1%81%D1%88%D1%82%D0%B0%D0%B1%D0%B8%D1%80%D0%BE%D0%B2%D0%B0%D0%BD%D0%B8%D0%B5_%D0%B8_%D1%80%D0%B5%D0%B3%D1%83%D0%BB%D1%8F%D1%80%D0%B8%D0%B7%D0%B0%D1%86%D0%B8%D1%8F.ipynb\" target=\"_parent\"><img src=\"https://colab.research.google.com/assets/colab-badge.svg\" alt=\"Open In Colab\"/></a>"
      ]
    },
    {
      "cell_type": "markdown",
      "metadata": {
        "id": "SAaYi-d-lnfm"
      },
      "source": [
        "### Домашнее задание <a class=\"anchor\" id=\"hw\"></a><center>"
      ]
    },
    {
      "cell_type": "code",
      "metadata": {
        "id": "_u5bV-OlT34p"
      },
      "source": [
        "import numpy as np\n",
        "import matplotlib.pyplot as plt\n",
        "from tqdm import tqdm\n",
        "import warnings\n",
        "warnings.filterwarnings('ignore')"
      ],
      "execution_count": 24,
      "outputs": []
    },
    {
      "cell_type": "markdown",
      "metadata": {
        "id": "vrWxqal_lnfx"
      },
      "source": [
        "__Задача:__ предсказание баллов ЕГЭ ученика"
      ]
    },
    {
      "cell_type": "code",
      "metadata": {
        "id": "_n6il-AZaLuA"
      },
      "source": [
        "X = np.array([[   1,    1,  500,    1],\n",
        "              [   1,    1,  700,    1],\n",
        "              [   1,    2,  750,    2],\n",
        "              [   1,    5,  600,    1],\n",
        "              [   1,    3, 1450,    2],\n",
        "              [   1,    0,  800,    1],\n",
        "              [   1,    5, 1500,    3],\n",
        "              [   1,   10, 2000,    3],\n",
        "              [   1,    1,  450,    1],\n",
        "              [   1,    2, 1000,    2]])"
      ],
      "execution_count": 25,
      "outputs": []
    },
    {
      "cell_type": "code",
      "metadata": {
        "id": "x8yoci01ni-t"
      },
      "source": [
        "y = [45, 55, 50, 55, 60, 35, 75, 80, 50, 60]"
      ],
      "execution_count": 26,
      "outputs": []
    },
    {
      "cell_type": "code",
      "metadata": {
        "id": "75ggDJTGlnfz"
      },
      "source": [
        "def standard_scale(X):\n",
        "    mean = X.mean(axis=0)\n",
        "    std = X.std(axis=0)\n",
        "    return (X - mean) / std"
      ],
      "execution_count": 27,
      "outputs": []
    },
    {
      "cell_type": "code",
      "metadata": {
        "colab": {
          "base_uri": "https://localhost:8080/"
        },
        "id": "uk7rSuh2lnf0",
        "outputId": "6838ab2f-7f4f-4bfd-c34f-2b60940914d1"
      },
      "source": [
        "X_st = X.copy().astype(np.float64)\n",
        "X_st[:, 1:4] = standard_scale(X_st[:, 1:4])\n",
        "X_st"
      ],
      "execution_count": 28,
      "outputs": [
        {
          "output_type": "execute_result",
          "data": {
            "text/plain": [
              "array([[ 1.        , -0.70710678, -0.97958969, -0.89625816],\n",
              "       [ 1.        , -0.70710678, -0.56713087, -0.89625816],\n",
              "       [ 1.        , -0.35355339, -0.46401617,  0.38411064],\n",
              "       [ 1.        ,  0.70710678, -0.77336028, -0.89625816],\n",
              "       [ 1.        ,  0.        ,  0.97958969,  0.38411064],\n",
              "       [ 1.        , -1.06066017, -0.36090146, -0.89625816],\n",
              "       [ 1.        ,  0.70710678,  1.08270439,  1.66447944],\n",
              "       [ 1.        ,  2.47487373,  2.11385144,  1.66447944],\n",
              "       [ 1.        , -0.70710678, -1.08270439, -0.89625816],\n",
              "       [ 1.        , -0.35355339,  0.05155735,  0.38411064]])"
            ]
          },
          "metadata": {},
          "execution_count": 28
        }
      ]
    },
    {
      "cell_type": "code",
      "metadata": {
        "colab": {
          "base_uri": "https://localhost:8080/",
          "height": 283
        },
        "id": "16CTmYfLlnf3",
        "outputId": "d4f01003-bb24-4f40-cd7d-8349bf040e09"
      },
      "source": [
        "ind = 2\n",
        "print(np.mean(X_st[:, ind]), np.std(X_st[:, ind]))\n",
        "plt.hist(X_st[:, ind])\n",
        "plt.show()"
      ],
      "execution_count": 29,
      "outputs": [
        {
          "output_type": "stream",
          "name": "stdout",
          "text": [
            "-4.163336342344337e-17 0.9999999999999999\n"
          ]
        },
        {
          "output_type": "display_data",
          "data": {
            "image/png": "[encoded data removed]",
            "text/plain": [
              "<Figure size 432x288 with 1 Axes>"
            ]
          },
          "metadata": {
            "needs_background": "light"
          }
        }
      ]
    },
    {
      "cell_type": "code",
      "metadata": {
        "id": "tThPvq5Klnf5"
      },
      "source": [
        "def calc_mse(y, y_pred):\n",
        "    err = np.mean((y - y_pred) ** 2)\n",
        "    return err"
      ],
      "execution_count": 30,
      "outputs": []
    },
    {
      "cell_type": "markdown",
      "metadata": {
        "id": "BfkejRHGlnf7"
      },
      "source": [
        "**1. Постройте график зависимости весов всех признаков от lambda в самописной L2-регуляризации (на данных про ЕГЭ). Сделайте вывод**"
      ]
    },
    {
      "cell_type": "code",
      "metadata": {
        "id": "NjyKgl4Hlnf7"
      },
      "source": [
        "def gradient_descent_reg_l2(X, y, iterations, eta=1e-4, reg=1e-8):\n",
        "    W = np.random.randn(X.shape[1])#первоначально случайным образом задаем веса для признаков\n",
        "    print(W)\n",
        "    n = X.shape[0]\n",
        "    \n",
        "    for i in range(0, iterations):\n",
        "        y_pred = np.dot(X, W) # расчет предсказания\n",
        "        err = calc_mse(y, y_pred) # проверка предсказанного результата по среднеквадратичной ошибке\n",
        "        \n",
        "        dQ = 2/n * X.T @ (y_pred - y) # градиент функции ошибки\n",
        "        dReg = reg * W # градиент регуляризации\n",
        "        \n",
        "        W -= eta * dQ + dReg\n",
        "        \n",
        "#         if i % (iterations / 10) == 0:\n",
        "#             print(f'Iter: {i}, weights: {W}, error {err}')\n",
        "    \n",
        "#     print(f'Final MSE: {calc_mse(y, np.dot(X, W))}')\n",
        "    return W"
      ],
      "execution_count": 31,
      "outputs": []
    },
    {
      "cell_type": "code",
      "metadata": {
        "colab": {
          "base_uri": "https://localhost:8080/"
        },
        "id": "nE8k2REAlnf8",
        "outputId": "58b58162-0df9-4c94-c007-d1b7c9bc307a"
      },
      "source": [
        "gradient_descent_reg_l2(X_st, y, iterations=5000, eta=1e-2, reg=1e-4)"
      ],
      "execution_count": 32,
      "outputs": [
        {
          "output_type": "stream",
          "name": "stdout",
          "text": [
            "[-0.32387466  1.9795625  -1.10473983 -0.17986503]\n"
          ]
        },
        {
          "output_type": "execute_result",
          "data": {
            "text/plain": [
              "array([56.21890547,  6.23067789, -0.16463982,  6.42093469])"
            ]
          },
          "metadata": {},
          "execution_count": 32
        }
      ]
    },
    {
      "cell_type": "code",
      "metadata": {
        "colab": {
          "base_uri": "https://localhost:8080/"
        },
        "id": "ZbGp_4Mllnf9",
        "outputId": "e5b0a905-780f-4f7f-ee18-74d7b301e841"
      },
      "source": [
        "np.linspace(0, 1, 10)"
      ],
      "execution_count": 33,
      "outputs": [
        {
          "output_type": "execute_result",
          "data": {
            "text/plain": [
              "array([0.        , 0.11111111, 0.22222222, 0.33333333, 0.44444444,\n",
              "       0.55555556, 0.66666667, 0.77777778, 0.88888889, 1.        ])"
            ]
          },
          "metadata": {},
          "execution_count": 33
        }
      ]
    },
    {
      "cell_type": "code",
      "metadata": {
        "scrolled": false,
        "colab": {
          "base_uri": "https://localhost:8080/",
          "height": 801
        },
        "id": "0pAu3F-zlnf-",
        "outputId": "0dafb37a-83e5-4ed8-a3cf-89224d6a6b59"
      },
      "source": [
        "n = 10\n",
        "\n",
        "coeffs = np.zeros((n, X_st.shape[1]))\n",
        "print(coeffs)\n",
        "lambda_list = np.linspace(0, 1, n)# список коэффициентов регуляризации, на его основе переберем расчеты градиентного спуска со всеми значениями из этого списка\n",
        "# print(lambda_list)\n",
        "for i, val in tqdm(enumerate(lambda_list)):# tqdm - хитрый дикоратор\n",
        "    weights = gradient_descent_reg_l2(X_st, y, iterations=5000, eta=1e-2, reg=val)\n",
        "    coeffs[i, :] = weights # полученные веса сохраним в массив, на основе этого массива построим график зависимости весов от коэффициента реуляризации\n",
        "\n",
        "\n",
        "plt.figure(figsize=(10, 6))\n",
        "for i in range(X_st.shape[1]):\n",
        "    plt.plot(lambda_list, coeffs[:, i], label=f'{i}')\n",
        "    plt.title('Убывание абсолютных значений весов признаков\\n при увеличении коэффициента регуляризации')\n",
        "   \n",
        "        # print(X_st.shape[1],coeffs[:, i])\n",
        "    \n",
        "plt.legend()\n",
        "plt.xlabel('lambda')\n",
        "plt.ylabel('Вес признака');"
      ],
      "execution_count": 34,
      "outputs": [
        {
          "output_type": "stream",
          "name": "stdout",
          "text": [
            "[[0. 0. 0. 0.]\n",
            " [0. 0. 0. 0.]\n",
            " [0. 0. 0. 0.]\n",
            " [0. 0. 0. 0.]\n",
            " [0. 0. 0. 0.]\n",
            " [0. 0. 0. 0.]\n",
            " [0. 0. 0. 0.]\n",
            " [0. 0. 0. 0.]\n",
            " [0. 0. 0. 0.]\n",
            " [0. 0. 0. 0.]]\n"
          ]
        },
        {
          "output_type": "stream",
          "name": "stderr",
          "text": [
            "\r0it [00:00, ?it/s]"
          ]
        },
        {
          "output_type": "stream",
          "name": "stdout",
          "text": [
            "[-0.21593641  0.96706186 -1.56582986 -0.02275534]\n"
          ]
        },
        {
          "output_type": "stream",
          "name": "stderr",
          "text": [
            "\r1it [00:00,  5.87it/s]"
          ]
        },
        {
          "output_type": "stream",
          "name": "stdout",
          "text": [
            "[ 0.45860076  0.18906834 -0.02873648  1.91603345]\n"
          ]
        },
        {
          "output_type": "stream",
          "name": "stderr",
          "text": [
            "\r2it [00:00,  5.35it/s]"
          ]
        },
        {
          "output_type": "stream",
          "name": "stdout",
          "text": [
            "[-0.17773563 -0.26020868  0.57094758 -1.30237909]\n"
          ]
        },
        {
          "output_type": "stream",
          "name": "stderr",
          "text": [
            "\r3it [00:00,  5.37it/s]"
          ]
        },
        {
          "output_type": "stream",
          "name": "stdout",
          "text": [
            "[ 2.03641867 -0.54987434 -1.12419887  0.11120057]\n"
          ]
        },
        {
          "output_type": "stream",
          "name": "stderr",
          "text": [
            "\r4it [00:00,  5.06it/s]"
          ]
        },
        {
          "output_type": "stream",
          "name": "stdout",
          "text": [
            "[ 0.42780367 -0.82752288 -0.06535161  1.46822079]\n"
          ]
        },
        {
          "output_type": "stream",
          "name": "stderr",
          "text": [
            "6it [00:01,  5.13it/s]"
          ]
        },
        {
          "output_type": "stream",
          "name": "stdout",
          "text": [
            "[ 0.00575356 -0.85091205 -1.0928316   0.99961777]\n",
            "[-1.86861727 -0.23517694 -0.72108009  0.47441648]\n"
          ]
        },
        {
          "output_type": "stream",
          "name": "stderr",
          "text": [
            "8it [00:01,  5.48it/s]"
          ]
        },
        {
          "output_type": "stream",
          "name": "stdout",
          "text": [
            "[ 1.48008473 -1.28461954 -0.12121618  0.97344132]\n",
            "[-0.24259412  1.85310589  0.38047921 -0.55994178]\n"
          ]
        },
        {
          "output_type": "stream",
          "name": "stderr",
          "text": [
            "10it [00:01,  5.34it/s]\n"
          ]
        },
        {
          "output_type": "stream",
          "name": "stdout",
          "text": [
            "[-2.46594977  0.53876729 -0.08431916 -0.69334308]\n"
          ]
        },
        {
          "output_type": "display_data",
          "data": {
            "image/png": "[encoded data removed]",
            "text/plain": [
              "<Figure size 720x432 with 1 Axes>"
            ]
          },
          "metadata": {
            "needs_background": "light"
          }
        }
      ]
    },
    {
      "cell_type": "markdown",
      "metadata": {
        "id": "H2xEEsrvlnf_"
      },
      "source": [
        "**2. Напишите функцию наподобие gradient_descent_reg_l2, но для применения L1-регуляризации.**"
      ]
    },
    {
      "cell_type": "code",
      "metadata": {
        "colab": {
          "base_uri": "https://localhost:8080/"
        },
        "id": "DiELHATqlngA",
        "outputId": "92e14414-18ce-4e5a-b7b9-6770a396fa0d"
      },
      "source": [
        "np.sign(0)"
      ],
      "execution_count": 35,
      "outputs": [
        {
          "output_type": "execute_result",
          "data": {
            "text/plain": [
              "0"
            ]
          },
          "metadata": {},
          "execution_count": 35
        }
      ]
    },
    {
      "cell_type": "code",
      "metadata": {
        "id": "-u-JLzeilngB"
      },
      "source": [
        "def gradient_descent_reg_l1(X, y, iterations, eta=1e-4, reg=1e-8):\n",
        "    W = np.random.randn(X.shape[1])\n",
        "    n = X.shape[0]\n",
        "    \n",
        "    for i in range(0, iterations):\n",
        "        y_pred = np.dot(X, W)\n",
        "        err = calc_mse(y, y_pred)\n",
        "        \n",
        "        dQ = 2/n * X.T @ (y_pred - y) # градиент функции ошибки\n",
        "        dReg = reg * np.sign(W) # градиент регуляризации\n",
        "        \n",
        "        W -= eta * (dQ + dReg)\n",
        "        \n",
        "        if i % (iterations / 10) == 0:\n",
        "            print(f'Iter: {i}, weights: {W}, error {err}')\n",
        "    \n",
        "    print(f'Final MSE: {calc_mse(y, np.dot(X, W))}')\n",
        "    return W"
      ],
      "execution_count": 36,
      "outputs": []
    },
    {
      "cell_type": "code",
      "metadata": {
        "colab": {
          "base_uri": "https://localhost:8080/"
        },
        "id": "F-EpVjQzlngC",
        "outputId": "3f14bee5-0ce9-44b5-aab5-ca3cf64fc365"
      },
      "source": [
        "gradient_descent_reg_l1(X_st, y, iterations=5000, eta=1e-2, reg=1e-2)"
      ],
      "execution_count": 37,
      "outputs": [
        {
          "output_type": "stream",
          "name": "stdout",
          "text": [
            "Iter: 0, weights: [ 2.29182451  1.58092464 -0.46522408 -0.02905501], error 3210.1951543242526\n",
            "Iter: 500, weights: [56.49277637  6.00958429  0.96689116  5.49202095], error 25.212533475918974\n",
            "Iter: 1000, weights: [56.49499991  6.20122755  0.11764198  6.17799774], error 24.94463549865879\n",
            "Iter: 1500, weights: [56.495       6.25390597 -0.1534904   6.40903923], error 24.91182389551101\n",
            "Iter: 2000, weights: [56.495       6.27219964 -0.24517243  6.48537734], error 24.90678440801884\n",
            "Iter: 2500, weights: [56.495       6.27901457 -0.27824495  6.51270917], error 24.9056998462973\n",
            "Iter: 3000, weights: [56.495       6.28147933 -0.29015282  6.52253959], error 24.90540407313568\n",
            "Iter: 3500, weights: [56.495       6.28236711 -0.29443915  6.52607759], error 24.90530987530734\n",
            "Iter: 4000, weights: [56.495       6.28268668 -0.29598198  6.52735104], error 24.90527755871643\n",
            "Iter: 4500, weights: [56.495       6.28280171 -0.29653731  6.52780941], error 24.90526613253228\n",
            "Final MSE: 24.90526204645054\n"
          ]
        },
        {
          "output_type": "execute_result",
          "data": {
            "text/plain": [
              "array([56.495     ,  6.28284307, -0.29673697,  6.5279742 ])"
            ]
          },
          "metadata": {},
          "execution_count": 37
        }
      ]
    },
    {
      "cell_type": "markdown",
      "metadata": {
        "id": "oRcmAg6nlngD"
      },
      "source": [
        "**3. *Можно ли к одному и тому же признаку применить сразу и нормализацию, и стандартизацию?**"
      ]
    },
    {
      "cell_type": "markdown",
      "metadata": {
        "id": "-gYstpQBeLtw"
      },
      "source": [
        "Нет смысла применять одновременно и стандртизицию и нормализацию. Будет иметь значение последний примененный метод"
      ]
    },
    {
      "cell_type": "code",
      "metadata": {
        "id": "eWoGbM8llngE"
      },
      "source": [
        "def standard_scale(X):\n",
        "    mean = X.mean(axis=0)\n",
        "    std = X.std(axis=0)\n",
        "    return (X - mean) / std"
      ],
      "execution_count": 38,
      "outputs": []
    },
    {
      "cell_type": "code",
      "metadata": {
        "id": "3orVFSNwlngF"
      },
      "source": [
        "def min_max_scale(X):\n",
        "    return (X - X.min(axis=0)) / (X.max(axis=0) - X.min(axis=0))"
      ],
      "execution_count": 39,
      "outputs": []
    },
    {
      "cell_type": "code",
      "metadata": {
        "colab": {
          "base_uri": "https://localhost:8080/"
        },
        "id": "-1YCZYN_lngF",
        "outputId": "abacd39a-23c5-4888-c0ec-cc2604ae881e"
      },
      "source": [
        "X_norm = X.copy().astype('float64')\n",
        "X_norm = min_max_scale(X_norm[:, 1:])\n",
        "X_norm.min(axis=0), X_norm.max(axis=0)"
      ],
      "execution_count": 40,
      "outputs": [
        {
          "output_type": "execute_result",
          "data": {
            "text/plain": [
              "(array([0., 0., 0.]), array([1., 1., 1.]))"
            ]
          },
          "metadata": {},
          "execution_count": 40
        }
      ]
    },
    {
      "cell_type": "code",
      "metadata": {
        "colab": {
          "base_uri": "https://localhost:8080/"
        },
        "id": "UsBQ08YulngG",
        "outputId": "c47991d0-6fe5-4322-8a17-6c94466c93d2"
      },
      "source": [
        "X_norm.mean(axis=0), X_norm.std(axis=0)"
      ],
      "execution_count": 41,
      "outputs": [
        {
          "output_type": "execute_result",
          "data": {
            "text/plain": [
              "(array([0.3       , 0.33870968, 0.35      ]),\n",
              " array([0.28284271, 0.31283671, 0.39051248]))"
            ]
          },
          "metadata": {},
          "execution_count": 41
        }
      ]
    },
    {
      "cell_type": "code",
      "metadata": {
        "colab": {
          "base_uri": "https://localhost:8080/"
        },
        "id": "TxRsxIGolngH",
        "outputId": "f3633d07-47a6-4ead-8a5c-4fd37f906f84"
      },
      "source": [
        "X_norm_st = standard_scale(X_norm)\n",
        "X_norm_st.min(axis=0), X_norm_st.max(axis=0)"
      ],
      "execution_count": 42,
      "outputs": [
        {
          "output_type": "execute_result",
          "data": {
            "text/plain": [
              "(array([-1.06066017, -1.08270439, -0.89625816]),\n",
              " array([2.47487373, 2.11385144, 1.66447944]))"
            ]
          },
          "metadata": {},
          "execution_count": 42
        }
      ]
    },
    {
      "cell_type": "code",
      "metadata": {
        "colab": {
          "base_uri": "https://localhost:8080/"
        },
        "id": "lgNvsCFPlngI",
        "outputId": "a640861a-5263-415e-d7b4-99d062f9626a"
      },
      "source": [
        "X_norm_st.mean(axis=0), X_norm_st.std(axis=0)"
      ],
      "execution_count": 43,
      "outputs": [
        {
          "output_type": "execute_result",
          "data": {
            "text/plain": [
              "(array([-1.49880108e-16, -6.86950496e-17,  8.32667268e-17]),\n",
              " array([1., 1., 1.]))"
            ]
          },
          "metadata": {},
          "execution_count": 43
        }
      ]
    },
    {
      "cell_type": "markdown",
      "metadata": {
        "id": "osNM_LLkiqu6"
      },
      "source": [
        "**4. *Сгенерируйте датасет при помощи <code>sklearn.datasets.make_regression</code> и обучите линейную модель при помощи градиентного и стохастического градиентного спуска. Нанесите среднеквадратичную ошибку для обоих методов на один график, сделайте выводы о разнице скорости сходимости каждого из методов.**"
      ]
    },
    {
      "cell_type": "code",
      "metadata": {
        "colab": {
          "base_uri": "https://localhost:8080/",
          "height": 381
        },
        "id": "ezYxgVR4lngJ",
        "outputId": "006d30de-fdbf-4928-c921-90d8d020638b"
      },
      "source": [
        "from sklearn import datasets\n",
        "\n",
        "X, Y, coef = datasets.make_regression(n_samples=100000, n_features=20, n_informative=10, n_targets=1, \n",
        "                                      noise=5, coef=True, random_state=2)\n",
        "display(X, Y, coef)"
      ],
      "execution_count": 44,
      "outputs": [
        {
          "output_type": "display_data",
          "data": {
            "text/plain": [
              "array([[-0.71760732, -1.09367119, -0.73597009, ..., -0.09194752,\n",
              "         0.77271648, -0.5294093 ],\n",
              "       [-0.21856062, -0.43937009,  1.17601766, ..., -0.44205731,\n",
              "         0.65967443, -0.5364636 ],\n",
              "       [-0.09232329, -0.04777714,  0.58128624, ..., -0.64041891,\n",
              "         1.29076796, -0.34530826],\n",
              "       ...,\n",
              "       [-0.1724219 ,  1.20477844,  0.77081956, ...,  1.78646758,\n",
              "        -0.59041036, -0.6747931 ],\n",
              "       [ 0.93830193, -0.05266006,  1.45767292, ..., -1.01765261,\n",
              "         0.02393901,  1.37086726],\n",
              "       [-0.99582701,  1.30720547, -0.04855569, ...,  1.85683052,\n",
              "        -0.26133944,  0.50888458]])"
            ]
          },
          "metadata": {}
        },
        {
          "output_type": "display_data",
          "data": {
            "text/plain": [
              "array([-133.10543687,   44.01778172,   48.98233093, ..., -271.14963388,\n",
              "        161.66813826,  380.05918834])"
            ]
          },
          "metadata": {}
        },
        {
          "output_type": "display_data",
          "data": {
            "text/plain": [
              "array([8.03590530e+00, 9.63394753e+00, 0.00000000e+00, 0.00000000e+00,\n",
              "       0.00000000e+00, 7.86058430e+01, 0.00000000e+00, 0.00000000e+00,\n",
              "       9.61298231e+01, 5.95379955e+01, 0.00000000e+00, 3.30583257e+01,\n",
              "       3.71965212e+01, 6.59198012e-02, 0.00000000e+00, 0.00000000e+00,\n",
              "       0.00000000e+00, 2.78539772e+01, 0.00000000e+00, 7.36381949e+01])"
            ]
          },
          "metadata": {}
        }
      ]
    },
    {
      "cell_type": "code",
      "metadata": {
        "id": "2fizjf-WlngL"
      },
      "source": [
        "X = standard_scale(X)"
      ],
      "execution_count": 45,
      "outputs": []
    },
    {
      "cell_type": "code",
      "metadata": {
        "id": "86VmRkmDlngL"
      },
      "source": [
        "# стохастический градиентный спуск\n",
        "def stohastic_gradient_descent(X, Y, iterations, eta=1e-4, size=1):\n",
        "    W = np.random.randn(X.shape[1])\n",
        "    n = X.shape[0]\n",
        "    \n",
        "    errors = []\n",
        "    w_list = [W.copy()]\n",
        "    for i in range(0, iterations):\n",
        "        train_ind = np.random.randint(X.shape[0], size=size)\n",
        "\n",
        "        y_pred = np.dot(X[train_ind], W)\n",
        "        W = W - eta * 2 / Y[train_ind].shape[0] * np.dot(X[train_ind].T, y_pred - Y[train_ind])\n",
        "\n",
        "        error = calc_mse(Y, np.dot(X, W))\n",
        "        errors.append(error)\n",
        "        w_list.append(W)\n",
        "        \n",
        "        if i % (iterations / 10) == 0:\n",
        "            print(f'Iter: {i}, error {error}')\n",
        "    \n",
        "    print(f'Final MSE: {calc_mse(Y, np.dot(X, W))}')\n",
        "    return W, errors, w_list"
      ],
      "execution_count": 46,
      "outputs": []
    },
    {
      "cell_type": "code",
      "metadata": {
        "id": "t93ED7xelngM"
      },
      "source": [
        "# классический  GD\n",
        "def gradient_descent(X, y, iterations, eta=1e-4):\n",
        "    W = np.random.randn(X.shape[1])\n",
        "    n = X.shape[0]\n",
        "    \n",
        "    errors = []\n",
        "    w_list = [W.copy()]\n",
        "    for i in range(0, iterations):\n",
        "        y_pred = np.dot(X, W)\n",
        "        err = calc_mse(y, y_pred)\n",
        "        errors.append(err)\n",
        "        \n",
        "        dQ = 2/n * X.T @ (y_pred - y) # градиент функции ошибки\n",
        "        W -= (eta * dQ)\n",
        "        w_list.append(W.copy())\n",
        "        \n",
        "        if i % (iterations / 10) == 0:\n",
        "            print(f'Iter: {i}, error {err}')\n",
        "        \n",
        "    print(f'Final MSE: {calc_mse(y, np.dot(X, W))}')\n",
        "    return W, errors, w_list"
      ],
      "execution_count": 47,
      "outputs": []
    },
    {
      "cell_type": "code",
      "metadata": {
        "colab": {
          "base_uri": "https://localhost:8080/"
        },
        "id": "Z1N21dwZlngM",
        "outputId": "afba0d99-7a40-4ad5-fb37-059234255f05"
      },
      "source": [
        "%%time\n",
        "weights_GD, errors_GD, w_list_GD = gradient_descent(X, Y, iterations=5000, eta=1e-3)"
      ],
      "execution_count": 48,
      "outputs": [
        {
          "output_type": "stream",
          "name": "stdout",
          "text": [
            "Iter: 0, error 28855.410140535387\n",
            "Iter: 500, error 3856.6554610586836\n",
            "Iter: 1000, error 534.6554609178123\n",
            "Iter: 1500, error 92.89322701443271\n",
            "Iter: 2000, error 34.10550898287463\n",
            "Iter: 2500, error 26.276715358862592\n",
            "Iter: 3000, error 25.23340316555548\n",
            "Iter: 3500, error 25.094265186830956\n",
            "Iter: 4000, error 25.075696138927526\n",
            "Iter: 4500, error 25.073216168570244\n",
            "Final MSE: 25.072884719800985\n",
            "CPU times: user 1min 19s, sys: 26.8 s, total: 1min 46s\n",
            "Wall time: 54.8 s\n"
          ]
        }
      ]
    },
    {
      "cell_type": "code",
      "metadata": {
        "colab": {
          "base_uri": "https://localhost:8080/"
        },
        "id": "a9gOkweSlngN",
        "outputId": "6e2fdfed-bbb7-466d-b9ec-9ef014314f64"
      },
      "source": [
        "%%time\n",
        "weights_SGD, errors_SGD, w_list_SGD = stohastic_gradient_descent(X, Y, iterations=5000, eta=1e-3, size=1)"
      ],
      "execution_count": 49,
      "outputs": [
        {
          "output_type": "stream",
          "name": "stdout",
          "text": [
            "Iter: 0, error 28047.654715660272\n",
            "Iter: 500, error 3575.7749210018264\n",
            "Iter: 1000, error 462.8744187332857\n",
            "Iter: 1500, error 94.83137140069472\n",
            "Iter: 2000, error 34.02760784678912\n",
            "Iter: 2500, error 26.55589848739196\n",
            "Iter: 3000, error 25.843094776891867\n",
            "Iter: 3500, error 25.77097452750736\n",
            "Iter: 4000, error 25.533731349132314\n",
            "Iter: 4500, error 25.659224466586277\n",
            "Final MSE: 25.573026796802655\n",
            "CPU times: user 17.6 s, sys: 4.76 s, total: 22.4 s\n",
            "Wall time: 11.5 s\n"
          ]
        }
      ]
    },
    {
      "cell_type": "code",
      "metadata": {
        "colab": {
          "base_uri": "https://localhost:8080/",
          "height": 295
        },
        "id": "V0g9q6rulngN",
        "outputId": "f2edbb15-b7ce-4083-ad37-e2ef47cce0fd"
      },
      "source": [
        "# Визуализируем изменение функционала ошибки\n",
        "plt.plot(range(len(errors_GD)), errors_GD, color='b', label='GD')\n",
        "plt.plot(range(len(errors_SGD)), errors_SGD, color='g', label='SGD')\n",
        "\n",
        "plt.title('MSE')\n",
        "plt.xlabel('Iteration number')\n",
        "plt.ylabel('MSE')\n",
        "plt.xlim(0, 1000)\n",
        "plt.legend();"
      ],
      "execution_count": 50,
      "outputs": [
        {
          "output_type": "display_data",
          "data": {
            "image/png": "[encoded data removed]",
            "text/plain": [
              "<Figure size 432x288 with 1 Axes>"
            ]
          },
          "metadata": {
            "needs_background": "light"
          }
        }
      ]
    },
    {
      "cell_type": "code",
      "metadata": {
        "id": "es-ufIv5lngN"
      },
      "source": [
        "w_list_GD = np.array(w_list_GD)\n",
        "w_list_SGD = np.array(w_list_SGD)"
      ],
      "execution_count": 51,
      "outputs": []
    },
    {
      "cell_type": "code",
      "metadata": {
        "colab": {
          "base_uri": "https://localhost:8080/",
          "height": 406
        },
        "id": "THrTM3_xlngO",
        "outputId": "ae1318f4-72ea-4c86-e485-b9bf4e2f7ac7"
      },
      "source": [
        "# Визуализируем изменение весов (красной точкой обозначены истинные веса, сгенерированные вначале)\n",
        "plt.figure(figsize=(13, 6))\n",
        "plt.title('Compare SGD and GD')\n",
        "plt.xlabel(r'$w_1$')\n",
        "plt.ylabel(r'$w_2$')\n",
        "\n",
        "plt.scatter(w_list_GD[:, 0], w_list_GD[:, 1], color='b')\n",
        "plt.plot(w_list_GD[:, 0], w_list_GD[:, 1], color='b', label='GD')\n",
        "\n",
        "plt.scatter(w_list_SGD[:, 0], w_list_SGD[:, 1], color='g')\n",
        "plt.plot(w_list_SGD[:, 0], w_list_SGD[:, 1], color='g', label='SGD')\n",
        "plt.scatter(coef[0], coef[1], c='r')\n",
        "\n",
        "plt.legend()\n",
        "plt.show()"
      ],
      "execution_count": 54,
      "outputs": [
        {
          "output_type": "display_data",
          "data": {
            "image/png": "[encoded data removed]",
            "text/plain": [
              "<Figure size 936x432 with 1 Axes>"
            ]
          },
          "metadata": {
            "needs_background": "light"
          }
        }
      ]
    }
  ]
}