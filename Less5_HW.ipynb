{
  "nbformat": 4,
  "nbformat_minor": 0,
  "metadata": {
    "colab": {
      "name": "Less5_HW.ipynb",
      "provenance": [],
      "collapsed_sections": [],
      "authorship_tag": "ABX9TyPeeHOkmHhRKydyoenukqV/",
      "include_colab_link": true
    },
    "kernelspec": {
      "name": "python3",
      "display_name": "Python 3"
    },
    "language_info": {
      "name": "python"
    }
  },
  "cells": [
    {
      "cell_type": "markdown",
      "metadata": {
        "id": "view-in-github",
        "colab_type": "text"
      },
      "source": [
        "<a href=\"https://colab.research.google.com/github/Nick-FF/AnalisDataAlgorithm/blob/Less5/Less5_HW.ipynb\" target=\"_parent\"><img src=\"https://colab.research.google.com/assets/colab-badge.svg\" alt=\"Open In Colab\"/></a>"
      ]
    },
    {
      "cell_type": "code",
      "metadata": {
        "id": "Ua0mNj2mi-ID"
      },
      "source": [
        "import matplotlib.pyplot as plt\n",
        "import random\n",
        "\n",
        "from matplotlib.colors import ListedColormap\n",
        "from sklearn.datasets import make_classification\n",
        "\n",
        "import numpy as np"
      ],
      "execution_count": 1,
      "outputs": []
    },
    {
      "cell_type": "code",
      "metadata": {
        "id": "6eGyqAMhjIep"
      },
      "source": [
        "# сгенерируем данные, представляющие собой 100 объектов с 2-я признаками\n",
        "classification_data, classification_labels = make_classification(n_samples=100,\n",
        "                                                                 n_features=2, n_informative=2, \n",
        "                                                                 n_classes=2, n_redundant=0, \n",
        "                                                                 n_clusters_per_class=1, random_state=23)"
      ],
      "execution_count": 2,
      "outputs": []
    },
    {
      "cell_type": "code",
      "metadata": {
        "colab": {
          "base_uri": "https://localhost:8080/",
          "height": 483
        },
        "id": "xy6N4_GFjOy4",
        "outputId": "3022725a-7662-4158-ff06-bf3f4e695c62"
      },
      "source": [
        "# визуализируем сгенерированные данные\n",
        "\n",
        "colors = ListedColormap(['red', 'blue'])\n",
        "light_colors = ListedColormap(['lightcoral', 'lightblue'])\n",
        "\n",
        "plt.figure(figsize=(8,8))\n",
        "plt.scatter(classification_data[:, 0], classification_data[:, 1], \n",
        "              c=classification_labels, cmap=colors);"
      ],
      "execution_count": 3,
      "outputs": [
        {
          "output_type": "display_data",
          "data": {
            "image/png": "[encoded data removed]",
            "text/plain": [
              "<Figure size 576x576 with 1 Axes>"
            ]
          },
          "metadata": {
            "needs_background": "light"
          }
        }
      ]
    },
    {
      "cell_type": "code",
      "metadata": {
        "id": "8xaw4sEvjP5n"
      },
      "source": [
        "random.seed(42)\n",
        " \n",
        "def get_bootstrap(data, labels, N):\n",
        "    n_samples = data.shape[0]\n",
        "    bootstrap = []\n",
        "    \n",
        "    for i in range(N):\n",
        "        b_data = np.zeros(data.shape)\n",
        "        b_labels = np.zeros(labels.shape)\n",
        "        for j in range(n_samples):\n",
        "            sample_index = random.randint(0, n_samples-1)\n",
        "            b_data[j] = data[sample_index]\n",
        "            b_labels[j] = labels[sample_index]            \n",
        "        bootstrap.append((b_data, b_labels))\n",
        "        \n",
        "    return bootstrap"
      ],
      "execution_count": 4,
      "outputs": []
    },
    {
      "cell_type": "code",
      "metadata": {
        "id": "CxM1KeBb-Ti0"
      },
      "source": [
        "def get_subsample(len_sample):\n",
        "    # будем сохранять не сами признаки, а их индексы\n",
        "    sample_indexes = [i for i in range(len_sample)]\n",
        "    \n",
        "    len_subsample = int(np.sqrt(len_sample))\n",
        "    subsample = []\n",
        "    \n",
        "    random.shuffle(sample_indexes)\n",
        "    for _ in range(len_subsample):\n",
        "        subsample.append(sample_indexes.pop())\n",
        "        \n",
        "    return subsample"
      ],
      "execution_count": 5,
      "outputs": []
    },
    {
      "cell_type": "code",
      "metadata": {
        "id": "Ek1LdN2R-Xbe"
      },
      "source": [
        "# Реализуем класс узла\n",
        "\n",
        "class Node:\n",
        "    \n",
        "    def __init__(self, index, t, true_branch, false_branch):\n",
        "        self.index = index  # индекс признака, по которому ведется сравнение с порогом в этом узле\n",
        "        self.t = t  # значение порога\n",
        "        self.true_branch = true_branch  # поддерево, удовлетворяющее условию в узле\n",
        "        self.false_branch = false_branch  # поддерево, не удовлетворяющее условию в узле"
      ],
      "execution_count": 6,
      "outputs": []
    },
    {
      "cell_type": "code",
      "metadata": {
        "id": "qo-cOafH-j-5"
      },
      "source": [
        "# И класс терминального узла (листа)\n",
        "\n",
        "class Leaf:\n",
        "    \n",
        "    def __init__(self, data, labels):\n",
        "        self.data = data\n",
        "        self.labels = labels\n",
        "        self.prediction = self.predict()\n",
        "        \n",
        "    def predict(self):\n",
        "        # подсчет количества объектов разных классов\n",
        "        classes = {}  # сформируем словарь \"класс: количество объектов\"\n",
        "        for label in self.labels:\n",
        "            if label not in classes:\n",
        "                classes[label] = 0\n",
        "            classes[label] += 1\n",
        "            \n",
        "        # найдем класс, количество объектов которого будет максимальным в этом листе и вернем его    \n",
        "        prediction = max(classes, key=classes.get)\n",
        "        return prediction   "
      ],
      "execution_count": 7,
      "outputs": []
    },
    {
      "cell_type": "code",
      "metadata": {
        "id": "P2Ezds8D-nb9"
      },
      "source": [
        "# Расчет критерия Джини\n",
        "\n",
        "def gini(labels):\n",
        "    #  подсчет количества объектов разных классов\n",
        "    classes = {}\n",
        "    for label in labels:\n",
        "        if label not in classes:\n",
        "            classes[label] = 0\n",
        "        classes[label] += 1\n",
        "    \n",
        "    #  расчет критерия\n",
        "    impurity = 1\n",
        "    for label in classes:\n",
        "        p = classes[label] / len(labels)\n",
        "        impurity -= p ** 2\n",
        "        \n",
        "    return impurity"
      ],
      "execution_count": 8,
      "outputs": []
    },
    {
      "cell_type": "code",
      "metadata": {
        "id": "DSu8YvEm-yqg"
      },
      "source": [
        "# Расчет прироста\n",
        "\n",
        "def gain(left_labels, right_labels, root_gini):\n",
        "\n",
        "    # доля выборки, ушедшая в левое поддерево\n",
        "    p = float(left_labels.shape[0]) / (left_labels.shape[0] + right_labels.shape[0])\n",
        "    \n",
        "    return root_gini - p * gini(left_labels) - (1 - p) * gini(right_labels)"
      ],
      "execution_count": 9,
      "outputs": []
    },
    {
      "cell_type": "code",
      "metadata": {
        "id": "AU5-Hi0k-4UB"
      },
      "source": [
        "# Разбиение датасета в узле\n",
        "\n",
        "def split(data, labels, column_index, t):\n",
        "    \n",
        "    left = np.where(data[:, column_index] <= t)\n",
        "    right = np.where(data[:, column_index] > t)\n",
        "        \n",
        "    true_data = data[left]\n",
        "    false_data = data[right]\n",
        "    \n",
        "    true_labels = labels[left]\n",
        "    false_labels = labels[right]\n",
        "        \n",
        "    return true_data, false_data, true_labels, false_labels"
      ],
      "execution_count": 10,
      "outputs": []
    },
    {
      "cell_type": "code",
      "metadata": {
        "id": "3ZGcRkY5-7rc"
      },
      "source": [
        "# Нахождение наилучшего разбиения\n",
        "\n",
        "def find_best_split(data, labels):\n",
        "    \n",
        "    #  обозначим минимальное количество объектов в узле\n",
        "    min_leaf_samples = 5\n",
        "\n",
        "    root_gini = gini(labels)\n",
        "\n",
        "    best_gain = 0\n",
        "    best_t = None\n",
        "    best_index = None\n",
        "    \n",
        "    n_features = data.shape[1]\n",
        "    \n",
        "    feature_subsample_indices = get_subsample(n_features) # выбираем случайные признаки\n",
        "    \n",
        "    for index in feature_subsample_indices:\n",
        "        # будем проверять только уникальные значения признака, исключая повторения\n",
        "        t_values = np.unique(data[:, index])\n",
        "        \n",
        "        for t in t_values:\n",
        "            true_data, false_data, true_labels, false_labels = split(data, labels, index, t)\n",
        "            #  пропускаем разбиения, в которых в узле остается менее 5 объектов\n",
        "#             if len(true_data) < min_leaf_samples or len(false_data) < min_leaf_samples:\n",
        "#                 continue\n",
        "            \n",
        "            current_gain = gain(true_labels, false_labels, root_gini)\n",
        "            \n",
        "            #  выбираем порог, на котором получается максимальный прирост качества\n",
        "            if current_gain > best_gain:\n",
        "                best_gain, best_t, best_index = current_gain, t, index\n",
        "\n",
        "    return best_gain, best_t, best_index"
      ],
      "execution_count": 11,
      "outputs": []
    },
    {
      "cell_type": "code",
      "metadata": {
        "id": "ITEqdEX8-_Kc"
      },
      "source": [
        "# Построение дерева с помощью рекурсивной функции\n",
        "\n",
        "def build_tree(data, labels):\n",
        "\n",
        "    gain, t, index = find_best_split(data, labels)\n",
        "\n",
        "    #  Базовый случай - прекращаем рекурсию, когда нет прироста в качества\n",
        "    if gain == 0:\n",
        "        return Leaf(data, labels)\n",
        "\n",
        "    true_data, false_data, true_labels, false_labels = split(data, labels, index, t)\n",
        "\n",
        "    # Рекурсивно строим два поддерева\n",
        "    true_branch = build_tree(true_data, true_labels)\n",
        "    false_branch = build_tree(false_data, false_labels)\n",
        "\n",
        "    # Возвращаем класс узла со всеми поддеревьями, то есть целого дерева\n",
        "    return Node(index, t, true_branch, false_branch)"
      ],
      "execution_count": 12,
      "outputs": []
    },
    {
      "cell_type": "code",
      "metadata": {
        "id": "6GX2UuKC_D-R"
      },
      "source": [
        "# NODE (node (node (leaf), (leaf)), (node (node (leaf), node (leaf))))"
      ],
      "execution_count": 13,
      "outputs": []
    },
    {
      "cell_type": "code",
      "metadata": {
        "id": "caG18r7O_GfA"
      },
      "source": [
        "def random_forest(data, labels, n_trees):\n",
        "    forest = []\n",
        "    bootstrap = get_bootstrap(data, labels, n_trees)\n",
        "    \n",
        "    for b_data, b_labels in bootstrap:\n",
        "        forest.append(build_tree(b_data, b_labels))\n",
        "        \n",
        "    return forest"
      ],
      "execution_count": 14,
      "outputs": []
    },
    {
      "cell_type": "code",
      "metadata": {
        "id": "x6YymigT_bOI"
      },
      "source": [
        "# Функция классификации отдельного объекта\n",
        "\n",
        "def classify_object(obj, node):\n",
        "\n",
        "    #  Останавливаем рекурсию, если достигли листа\n",
        "    if isinstance(node, Leaf):\n",
        "        answer = node.prediction\n",
        "        return answer\n",
        "\n",
        "    if obj[node.index] <= node.t:\n",
        "        return classify_object(obj, node.true_branch)\n",
        "    else:\n",
        "        return classify_object(obj, node.false_branch)"
      ],
      "execution_count": 15,
      "outputs": []
    },
    {
      "cell_type": "code",
      "metadata": {
        "id": "6gpzxNBu_hd8"
      },
      "source": [
        "# функция формирования предсказания по выборке на одном дереве\n",
        "\n",
        "def predict(data, tree):\n",
        "    \n",
        "    classes = []\n",
        "    for obj in data:\n",
        "        prediction = classify_object(obj, tree)\n",
        "        classes.append(prediction)\n",
        "    return classes"
      ],
      "execution_count": 16,
      "outputs": []
    },
    {
      "cell_type": "code",
      "metadata": {
        "id": "V3IGVEci_lgj"
      },
      "source": [
        "# предсказание голосованием деревьев\n",
        "\n",
        "def tree_vote(forest, data):\n",
        "\n",
        "    # добавим предсказания всех деревьев в список\n",
        "    predictions = []\n",
        "    for tree in forest:\n",
        "        predictions.append(predict(data, tree))\n",
        "#     print(predictions)\n",
        "\n",
        "    # сформируем список с предсказаниями для каждого объекта\n",
        "    predictions_per_object = list(zip(*predictions))\n",
        "#     print(predictions_per_object)\n",
        "\n",
        "    # выберем в качестве итогового предсказания для каждого объекта то,\n",
        "    # за которое проголосовало большинство деревьев\n",
        "    voted_predictions = []\n",
        "    for obj in predictions_per_object:\n",
        "        voted_predictions.append(max(set(obj), key=obj.count))\n",
        "        \n",
        "    return voted_predictions"
      ],
      "execution_count": 17,
      "outputs": []
    },
    {
      "cell_type": "code",
      "metadata": {
        "id": "hzmjwcBN_yzc"
      },
      "source": [
        ""
      ],
      "execution_count": 17,
      "outputs": []
    },
    {
      "cell_type": "code",
      "metadata": {
        "id": "0nRN-3ni_2s6"
      },
      "source": [
        "# Разобьем выборку на обучающую и тестовую\n",
        "\n",
        "from sklearn.model_selection import train_test_split\n",
        "\n",
        "train_data, test_data, train_labels, test_labels = train_test_split(classification_data, \n",
        "                                                                    classification_labels, \n",
        "                                                                    test_size=0.3,\n",
        "                                                                    random_state=1)"
      ],
      "execution_count": 18,
      "outputs": []
    },
    {
      "cell_type": "code",
      "metadata": {
        "id": "GaQL96-jAAT2"
      },
      "source": [
        "# Введем функцию подсчета точности как доли правильных ответов\n",
        "\n",
        "def accuracy_metric(actual, predicted):\n",
        "    correct = 0\n",
        "    for i in range(len(actual)):\n",
        "        if actual[i] == predicted[i]:\n",
        "            correct += 1\n",
        "    return correct / float(len(actual)) * 100.0"
      ],
      "execution_count": 19,
      "outputs": []
    },
    {
      "cell_type": "code",
      "metadata": {
        "colab": {
          "base_uri": "https://localhost:8080/"
        },
        "id": "4P7F2_qAADQO",
        "outputId": "13c50f99-4321-4ae4-836f-1c43595180fe"
      },
      "source": [
        "%%time\n",
        "n_trees = 1\n",
        "my_forest_1 = random_forest(train_data, train_labels, n_trees)"
      ],
      "execution_count": 20,
      "outputs": [
        {
          "output_type": "stream",
          "name": "stdout",
          "text": [
            "CPU times: user 12.3 ms, sys: 1.09 ms, total: 13.4 ms\n",
            "Wall time: 13.9 ms\n"
          ]
        }
      ]
    },
    {
      "cell_type": "code",
      "metadata": {
        "id": "AYjS-XaxAHwR"
      },
      "source": [
        "# Получим ответы для обучающей выборки \n",
        "train_answers = tree_vote(my_forest_1, train_data)"
      ],
      "execution_count": 21,
      "outputs": []
    },
    {
      "cell_type": "code",
      "metadata": {
        "id": "MKkrGKt2ALL6"
      },
      "source": [
        "# И получим ответы для тестовой выборки\n",
        "test_answers = tree_vote(my_forest_1, test_data)"
      ],
      "execution_count": 22,
      "outputs": []
    },
    {
      "cell_type": "code",
      "metadata": {
        "colab": {
          "base_uri": "https://localhost:8080/"
        },
        "id": "EEZrvr39ARne",
        "outputId": "28e07ca4-dff2-4f15-8e99-46e121b0bedf"
      },
      "source": [
        "# Точность на обучающей выборке\n",
        "train_accuracy = accuracy_metric(train_labels, train_answers)\n",
        "print(f'Точность случайного леса из {n_trees} деревьев на обучающей выборке: {train_accuracy:.3f}')\n",
        "\n",
        "# Точность на тестовой выборке\n",
        "test_accuracy = accuracy_metric(test_labels, test_answers)\n",
        "print(f'Точность случайного леса из {n_trees} деревьев на тестовой выборке: {test_accuracy:.3f}')"
      ],
      "execution_count": 23,
      "outputs": [
        {
          "output_type": "stream",
          "name": "stdout",
          "text": [
            "Точность случайного леса из 1 деревьев на обучающей выборке: 97.143\n",
            "Точность случайного леса из 1 деревьев на тестовой выборке: 80.000\n"
          ]
        }
      ]
    },
    {
      "cell_type": "code",
      "metadata": {
        "id": "GKFLxXyZAK7G"
      },
      "source": [
        "# Визуализируем дерево на графике\n",
        "\n",
        "def get_meshgrid(data, step=.05, border=1.2):\n",
        "    x_min, x_max = data[:, 0].min() - border, data[:, 0].max() + border\n",
        "    y_min, y_max = data[:, 1].min() - border, data[:, 1].max() + border\n",
        "    return np.meshgrid(np.arange(x_min, x_max, step), np.arange(y_min, y_max, step))\n",
        "\n",
        "\n",
        "def visualize(train_data, test_data, my_forest):\n",
        "    plt.figure(figsize = (16, 7))\n",
        "\n",
        "    # график обучающей выборки\n",
        "    plt.subplot(1,2,1)\n",
        "    xx, yy = get_meshgrid(train_data)\n",
        "    mesh_predictions = np.array(tree_vote(my_forest,np.c_[xx.ravel(), yy.ravel()])).reshape(xx.shape)\n",
        "    plt.pcolormesh(xx, yy, mesh_predictions, cmap = light_colors)\n",
        "    plt.scatter(train_data[:, 0], train_data[:, 1], c = train_labels, cmap = colors)\n",
        "    plt.title(f'Train accuracy={train_accuracy:.2f}')\n",
        "\n",
        "    # график тестовой выборки\n",
        "    plt.subplot(1,2,2)\n",
        "    plt.pcolormesh(xx, yy, mesh_predictions, cmap = light_colors)\n",
        "    plt.scatter(test_data[:, 0], test_data[:, 1], c = test_labels, cmap = colors)\n",
        "    plt.title(f'Test accuracy={test_accuracy:.2f}')"
      ],
      "execution_count": 32,
      "outputs": []
    },
    {
      "cell_type": "markdown",
      "metadata": {
        "id": "sSNsAUIUAIer"
      },
      "source": [
        "3 дерева"
      ]
    },
    {
      "cell_type": "code",
      "metadata": {
        "colab": {
          "base_uri": "https://localhost:8080/"
        },
        "id": "fQkXC47RAUhT",
        "outputId": "63f08ab9-da08-4093-b421-782181946bcc"
      },
      "source": [
        "%%time\n",
        "n_trees = 3\n",
        "my_forest_3 = random_forest(train_data, train_labels, n_trees)"
      ],
      "execution_count": 61,
      "outputs": [
        {
          "output_type": "stream",
          "name": "stdout",
          "text": [
            "CPU times: user 17.4 ms, sys: 995 µs, total: 18.4 ms\n",
            "Wall time: 21.5 ms\n"
          ]
        }
      ]
    },
    {
      "cell_type": "code",
      "metadata": {
        "colab": {
          "base_uri": "https://localhost:8080/"
        },
        "id": "fSyC15AOpQh9",
        "outputId": "2f035f42-e9fb-43d8-cde5-d8b797913227"
      },
      "source": [
        "tree_vote(my_forest_3, test_data[:3])"
      ],
      "execution_count": 45,
      "outputs": [
        {
          "output_type": "execute_result",
          "data": {
            "text/plain": [
              "[0.0, 0.0, 1.0]"
            ]
          },
          "metadata": {},
          "execution_count": 45
        }
      ]
    },
    {
      "cell_type": "code",
      "metadata": {
        "id": "wPpsjqCoAcGx"
      },
      "source": [
        "# Получим ответы для обучающей выборки \n",
        "train_answers = tree_vote(my_forest_3, train_data)"
      ],
      "execution_count": 46,
      "outputs": []
    },
    {
      "cell_type": "code",
      "metadata": {
        "id": "o-r8umewAepu"
      },
      "source": [
        "# И получим ответы для тестовой выборки\n",
        "test_answers = tree_vote(my_forest_3, test_data)"
      ],
      "execution_count": 47,
      "outputs": []
    },
    {
      "cell_type": "code",
      "metadata": {
        "colab": {
          "base_uri": "https://localhost:8080/"
        },
        "id": "t8q5YUSVAhYa",
        "outputId": "991daeb0-d945-4f63-96e6-9d823c3d7e32"
      },
      "source": [
        "# Точность на обучающей выборке\n",
        "train_accuracy = accuracy_metric(train_labels, train_answers)\n",
        "print(f'Точность случайного леса из {n_trees} деревьев на обучающей выборке: {train_accuracy:.3f}')\n",
        "\n",
        "# Точность на тестовой выборке\n",
        "test_accuracy = accuracy_metric(test_labels, test_answers)\n",
        "print(f'Точность случайного леса из {n_trees} деревьев на тестовой выборке: {test_accuracy:.3f}')"
      ],
      "execution_count": 48,
      "outputs": [
        {
          "output_type": "stream",
          "name": "stdout",
          "text": [
            "Точность случайного леса из 4 деревьев на обучающей выборке: 97.143\n",
            "Точность случайного леса из 4 деревьев на тестовой выборке: 80.000\n"
          ]
        }
      ]
    },
    {
      "cell_type": "code",
      "metadata": {
        "id": "v1o1PHBxFo5s"
      },
      "source": [
        "# Напечатаем ход нашего дерева\n",
        "def print_tree(node, spacing=\"\"):\n",
        "\n",
        "    # Если лист, то выводим его прогноз\n",
        "    if isinstance(node, Leaf):\n",
        "        print(spacing + \"Прогноз:\", node.prediction)\n",
        "        return\n",
        "\n",
        "    # Выведем значение индекса и порога на этом узле\n",
        "    print(spacing + 'Индекс', str(node.index), '<=', str(node.t))\n",
        "\n",
        "    # Рекурсионный вызов функции на положительном поддереве\n",
        "    print (spacing + '--> True:')\n",
        "    print_tree(node.true_branch, spacing + \"  \")\n",
        "\n",
        "    # Рекурсионный вызов функции на отрицательном поддереве\n",
        "    print (spacing + '--> False:')\n",
        "    print_tree(node.false_branch, spacing + \"  \")\n",
        "    \n"
      ],
      "execution_count": 49,
      "outputs": []
    },
    {
      "cell_type": "code",
      "metadata": {
        "id": "YPrE44yxHHai"
      },
      "source": [
        ""
      ],
      "execution_count": 30,
      "outputs": []
    },
    {
      "cell_type": "code",
      "metadata": {
        "colab": {
          "base_uri": "https://localhost:8080/",
          "height": 480
        },
        "id": "ZN6TlxFaAQhx",
        "outputId": "6bbd5521-0528-4435-d1d1-adec67fff8f0"
      },
      "source": [
        "%%time\n",
        "visualize(train_data, test_data, my_forest_3)"
      ],
      "execution_count": 62,
      "outputs": [
        {
          "output_type": "stream",
          "name": "stdout",
          "text": [
            "CPU times: user 136 ms, sys: 3.8 ms, total: 139 ms\n",
            "Wall time: 141 ms\n"
          ]
        },
        {
          "output_type": "display_data",
          "data": {
            "image/png": "[encoded data removed]",
            "text/plain": [
              "<Figure size 1152x504 with 2 Axes>"
            ]
          },
          "metadata": {
            "needs_background": "light"
          }
        }
      ]
    },
    {
      "cell_type": "markdown",
      "metadata": {
        "id": "sS-C6aGPAmev"
      },
      "source": [
        "10 деревьев"
      ]
    },
    {
      "cell_type": "code",
      "metadata": {
        "id": "eYYJGAzJAlYd",
        "colab": {
          "base_uri": "https://localhost:8080/"
        },
        "outputId": "bf103dda-2969-4df2-c1df-0e19d46299d2"
      },
      "source": [
        "%%time\n",
        "n_trees = 10\n",
        "my_forest_10 = random_forest(train_data, train_labels, n_trees)"
      ],
      "execution_count": 34,
      "outputs": [
        {
          "output_type": "stream",
          "name": "stdout",
          "text": [
            "CPU times: user 59.8 ms, sys: 0 ns, total: 59.8 ms\n",
            "Wall time: 65.3 ms\n"
          ]
        }
      ]
    },
    {
      "cell_type": "code",
      "metadata": {
        "id": "lKbBJOJQAtg5"
      },
      "source": [
        "# Получим ответы для обучающей выборки \n",
        "train_answers = tree_vote(my_forest_10, train_data)"
      ],
      "execution_count": 35,
      "outputs": []
    },
    {
      "cell_type": "code",
      "metadata": {
        "id": "jdbmDBmCAxrF"
      },
      "source": [
        "# И получим ответы для тестовой выборки\n",
        "test_answers = tree_vote(my_forest_10, test_data)"
      ],
      "execution_count": 36,
      "outputs": []
    },
    {
      "cell_type": "code",
      "metadata": {
        "id": "IWtgcuHxA08k",
        "colab": {
          "base_uri": "https://localhost:8080/"
        },
        "outputId": "b234b9e9-e479-41b0-811f-8fe92abc2ad0"
      },
      "source": [
        "# Точность на обучающей выборке\n",
        "train_accuracy = accuracy_metric(train_labels, train_answers)\n",
        "print(f'Точность случайного леса из {n_trees} деревьев на обучающей выборке: {train_accuracy:.3f}')\n",
        "\n",
        "# Точность на тестовой выборке\n",
        "test_accuracy = accuracy_metric(test_labels, test_answers)\n",
        "print(f'Точность случайного леса из {n_trees} деревьев на тестовой выборке: {test_accuracy:.3f}')"
      ],
      "execution_count": 37,
      "outputs": [
        {
          "output_type": "stream",
          "name": "stdout",
          "text": [
            "Точность случайного леса из 10 деревьев на обучающей выборке: 100.000\n",
            "Точность случайного леса из 10 деревьев на тестовой выборке: 86.667\n"
          ]
        }
      ]
    },
    {
      "cell_type": "code",
      "metadata": {
        "id": "POP6NAFYAPTy",
        "colab": {
          "base_uri": "https://localhost:8080/",
          "height": 480
        },
        "outputId": "4b5a0c6f-3fbd-42b7-a719-40f017e8d1a3"
      },
      "source": [
        "%%time\n",
        "visualize(train_data, test_data, my_forest_10)"
      ],
      "execution_count": 38,
      "outputs": [
        {
          "output_type": "stream",
          "name": "stdout",
          "text": [
            "CPU times: user 413 ms, sys: 6.47 ms, total: 420 ms\n",
            "Wall time: 420 ms\n"
          ]
        },
        {
          "output_type": "display_data",
          "data": {
            "image/png": "[encoded data removed]",
            "text/plain": [
              "<Figure size 1152x504 with 2 Axes>"
            ]
          },
          "metadata": {
            "needs_background": "light"
          }
        }
      ]
    },
    {
      "cell_type": "markdown",
      "metadata": {
        "id": "hNvwwO8sA6j8"
      },
      "source": [
        "50 деревьев"
      ]
    },
    {
      "cell_type": "code",
      "metadata": {
        "id": "TpBiQk6AA5ZJ",
        "colab": {
          "base_uri": "https://localhost:8080/"
        },
        "outputId": "53aa68bf-5748-4dca-b7c9-795adc276186"
      },
      "source": [
        "%%time\n",
        "n_trees = 50\n",
        "my_forest_50 = random_forest(train_data, train_labels, n_trees)"
      ],
      "execution_count": 39,
      "outputs": [
        {
          "output_type": "stream",
          "name": "stdout",
          "text": [
            "CPU times: user 299 ms, sys: 2.55 ms, total: 302 ms\n",
            "Wall time: 302 ms\n"
          ]
        }
      ]
    },
    {
      "cell_type": "code",
      "metadata": {
        "id": "Xa67v8MiBD5F"
      },
      "source": [
        ""
      ],
      "execution_count": 39,
      "outputs": []
    },
    {
      "cell_type": "code",
      "metadata": {
        "id": "Rcx1IkazBGit"
      },
      "source": [
        "# И получим ответы для тестовой выборки\n",
        "test_answers = tree_vote(my_forest_50, test_data)"
      ],
      "execution_count": 40,
      "outputs": []
    },
    {
      "cell_type": "code",
      "metadata": {
        "id": "h8QRb-8JBJGW",
        "colab": {
          "base_uri": "https://localhost:8080/"
        },
        "outputId": "69a495b8-1abc-49c7-fa17-c7e20494f9a4"
      },
      "source": [
        "# Точность на обучающей выборке\n",
        "train_accuracy = accuracy_metric(train_labels, train_answers)\n",
        "print(f'Точность случайного леса из {n_trees} деревьев на обучающей выборке: {train_accuracy:.3f}')\n",
        "\n",
        "# Точность на тестовой выборке\n",
        "test_accuracy = accuracy_metric(test_labels, test_answers)\n",
        "print(f'Точность случайного леса из {n_trees} деревьев на тестовой выборке: {test_accuracy:.3f}')"
      ],
      "execution_count": 41,
      "outputs": [
        {
          "output_type": "stream",
          "name": "stdout",
          "text": [
            "Точность случайного леса из 50 деревьев на обучающей выборке: 100.000\n",
            "Точность случайного леса из 50 деревьев на тестовой выборке: 86.667\n"
          ]
        }
      ]
    },
    {
      "cell_type": "code",
      "metadata": {
        "id": "Fp7CTjSc_DY7"
      },
      "source": [
        ""
      ],
      "execution_count": 41,
      "outputs": []
    },
    {
      "cell_type": "code",
      "metadata": {
        "id": "YRz9GY3S_Gt0",
        "colab": {
          "base_uri": "https://localhost:8080/",
          "height": 480
        },
        "outputId": "c89af5ed-3b1e-4737-ebc3-db820acada97"
      },
      "source": [
        "%%time\n",
        "visualize(train_data, test_data, my_forest_50)"
      ],
      "execution_count": 42,
      "outputs": [
        {
          "output_type": "stream",
          "name": "stdout",
          "text": [
            "CPU times: user 1.7 s, sys: 13.6 ms, total: 1.71 s\n",
            "Wall time: 1.72 s\n"
          ]
        },
        {
          "output_type": "display_data",
          "data": {
            "image/png": "[encoded data removed]",
            "text/plain": [
              "<Figure size 1152x504 with 2 Axes>"
            ]
          },
          "metadata": {
            "needs_background": "light"
          }
        }
      ]
    },
    {
      "cell_type": "markdown",
      "metadata": {
        "id": "-nBsp20oIyj_"
      },
      "source": [
        "1 Сформировать с помощью sklearn.make_classification датасет из 100 объектов с двумя признаками, обучить случайный лес из 1, 3, 10 и 50 деревьев и визуализировать их разделяющие гиперплоскости на графиках (по подобию визуализации деревьев из предыдущего урока, необходимо только заменить вызов функции predict на tree_vote).\n",
        "\n",
        "2 Сделать выводы о получаемой сложности гиперплоскости и недообучении или переобучении случайного леса в зависимости от количества деревьев в нем.\n",
        "\n",
        "На малом количестве деревьев происходит недообучение, т.к. алгоритму недостаточно усреднения данных от других деревьев.\n",
        "При большом количестве деревьев алгоритм склонен к переобучению ввиду заучивания всех данных. Это уже просматривается с 10 деревьев, где результат на обучении составляет 100. Все так же зависит и от самого дерева, которое используется, хотя и в меньшей степени чем при прямом предсказании методом одиночного дерева"
      ]
    }
  ]
}